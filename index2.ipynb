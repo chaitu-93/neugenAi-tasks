{
 "cells": [
  {
   "cell_type": "code",
   "execution_count": 5,
   "metadata": {},
   "outputs": [
    {
     "name": "stdout",
     "output_type": "stream",
     "text": [
      "Grouped Dimensions from Graphics and Drawings:\n",
      "[['30', '9', '75', '18', '9', '9', '7', '12', '15', '80'], ['15', '9', '2', '25', '60']]\n",
      "The total length from the side view section of the drawing from page 2\n",
      "30\n",
      "The diameter of the hole from page 2\n",
      "18\n",
      "Capture the distance between center of the hole to the edge of the part from page 3\n"
     ]
    }
   ],
   "source": [
    "import pdfplumber\n",
    "import re\n",
    "\n",
    "pdf_path = 'Autodesk Inventor Practice Part Drawings.pdf'\n",
    "page_number = 2\n",
    "extracted_text = \"\"\n",
    "\n",
    "with pdfplumber.open(pdf_path) as pdf:\n",
    "    if len(pdf.pages) >= page_number:\n",
    "        page = pdf.pages[page_number - 1]\n",
    "        extracted_text = page.extract_text()\n",
    "    else:\n",
    "        print(f\"Page {page_number} does not exist in the PDF.\")\n",
    "\n",
    "numbers = re.findall(r'\\d+\\.?\\d*', extracted_text)\n",
    "grouped_numbers = []\n",
    "current_group = []\n",
    "\n",
    "for num in numbers:\n",
    "    current_group.append(num)\n",
    "    if len(current_group) >= 10:\n",
    "        grouped_numbers.append(current_group)\n",
    "        current_group = []\n",
    "\n",
    "if current_group:\n",
    "    grouped_numbers.append(current_group)\n",
    "\n",
    "print(\"Grouped Dimensions from Graphics and Drawings:\")\n",
    "print(grouped_numbers)\n",
    "print(\"The total length from the side view section of the drawing from page 2\")\n",
    "print(grouped_numbers[0][0])\n",
    "print(\"The diameter of the hole from page 2\")\n",
    "print(grouped_numbers[0][3])\n",
    "print(\"Capture the distance between center of the hole to the edge of the part from page 3\")\n"
   ]
  },
  {
   "cell_type": "code",
   "execution_count": 7,
   "metadata": {},
   "outputs": [
    {
     "name": "stdout",
     "output_type": "stream",
     "text": [
      "Grouped Dimensions from Graphics and Drawings:\n",
      "[['5', '99', '4', '25', '3', '35', '40', '35', '80', '6'], ['88', '80', '12', '90', '5', '2', '30', '50', '25', '6'], ['25', '80', '30', '3', '25', '110', '60']]\n",
      "The distance between center of the hole to the edge of the part from page 3\n",
      "25\n"
     ]
    }
   ],
   "source": [
    "import pdfplumber\n",
    "import re\n",
    "\n",
    "pdf_path = 'Autodesk Inventor Practice Part Drawings.pdf'\n",
    "page_number = 3\n",
    "extracted_text = \"\"\n",
    "\n",
    "with pdfplumber.open(pdf_path) as pdf:\n",
    "    if len(pdf.pages) >= page_number:\n",
    "        page = pdf.pages[page_number - 1]\n",
    "        extracted_text = page.extract_text()\n",
    "    else:\n",
    "        print(f\"Page {page_number} does not exist in the PDF.\")\n",
    "\n",
    "numbers = re.findall(r'\\d+\\.?\\d*', extracted_text)\n",
    "grouped_numbers = []\n",
    "current_group = []\n",
    "\n",
    "for num in numbers:\n",
    "    current_group.append(num)\n",
    "    if len(current_group) >= 10:\n",
    "        grouped_numbers.append(current_group)\n",
    "        current_group = []\n",
    "\n",
    "if current_group:\n",
    "    grouped_numbers.append(current_group)\n",
    "\n",
    "print(\"Grouped Dimensions from Graphics and Drawings:\")\n",
    "print(grouped_numbers)\n",
    "\n",
    "print(\"The distance between center of the hole to the edge of the part from page 3\")\n",
    "print(grouped_numbers[1][8])\n"
   ]
  }
 ],
 "metadata": {
  "kernelspec": {
   "display_name": "Python 3",
   "language": "python",
   "name": "python3"
  },
  "language_info": {
   "codemirror_mode": {
    "name": "ipython",
    "version": 3
   },
   "file_extension": ".py",
   "mimetype": "text/x-python",
   "name": "python",
   "nbconvert_exporter": "python",
   "pygments_lexer": "ipython3",
   "version": "3.12.0"
  }
 },
 "nbformat": 4,
 "nbformat_minor": 2
}
