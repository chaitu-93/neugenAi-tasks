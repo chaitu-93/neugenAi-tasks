{
 "cells": [
  {
   "cell_type": "code",
   "execution_count": 1,
   "metadata": {},
   "outputs": [
    {
     "name": "stdout",
     "output_type": "stream",
     "text": [
      "Extracted Content:\n",
      "The ISO standards for technical drawings are found in a two volumes handbook:\n",
      " ISO Standards Handbook: Technical drawings, Volume 1: Technical drawings\n",
      "in general\n",
      " ISO Standards Handbook: Technical drawings, Volume 2: Mechanical\n",
      "engineering drawings; Construction drawings; Drawing equipment\n",
      "MENG 204 - Mechanical Drawing Lecture Notes by: Dr. Ala Hijazi\n",
      "Engineering Working Drawings Basics Page 1 of 22\n"
     ]
    }
   ],
   "source": [
    "# Different standards related to technical drawings from page 1\n",
    "import pdfplumber\n",
    "pdf_path = \"Engineering+Working+Drawing+Basics.pdf\"\n",
    "section_start = \"There are many different standards related to technical drawings.\"\n",
    "with pdfplumber.open(pdf_path) as pdf:\n",
    "    page = pdf.pages[0]\n",
    "    text = page.extract_text()\n",
    "    if section_start in text:\n",
    "        section_start_index = text.find(section_start) + len(section_start)\n",
    "        text_after_start = text[section_start_index:].strip()\n",
    "        print(\"Extracted Content:\")\n",
    "        print(text_after_start)\n",
    "    else:\n",
    "        print(\"Section not found on page 1.\")"
   ]
  },
  {
   "cell_type": "code",
   "execution_count": 2,
   "metadata": {},
   "outputs": [
    {
     "name": "stdout",
     "output_type": "stream",
     "text": [
      "Extracted Content:\n",
      ", The title block is normally placed in the bottom right of the drawing\n",
      "frame, and it should contain the following information:\n",
      " the name of the company or organization\n",
      " the title of the drawing\n",
      " the drawing number, which is generally a unique filing identifier\n",
      " the scale\n",
      " the drawing size\n",
      " the angle of projection used, either first or third, generally shown\n",
      "symbolically\n",
      " the signature or initials of the draftsman, checker, approving officer, and\n",
      "issuing officer, with the respective dates\n",
      " the material of the part\n",
      " the revision number\n",
      " the sheet number for multi-sheet drawings\n",
      " other information as required (tolerances, surface finish, etc.)\n",
      "In addition to the information above, for drawings produced using CAD software, it\n",
      "is highly recommended to have the following information in the title block:\n",
      " the name of the CAD software used and its version\n",
      " the name of the drawing file\n",
      " the name of the source part or assembly file\n",
      " the units of the dimensions (if the drawing is mistakenly printed on a different\n",
      "paper size, the scale becomes meaningless)\n"
     ]
    }
   ],
   "source": [
    "# Need to capture Title Block from page 3\n",
    "import pdfplumber\n",
    "pdf_path = \"Engineering+Working+Drawing+Basics.pdf\"\n",
    "start_section = \"Title Block\"\n",
    "end_section = \"Revision Table\"\n",
    "with pdfplumber.open(pdf_path) as pdf:\n",
    "    page = pdf.pages[2]\n",
    "    text = page.extract_text()\n",
    "    if start_section in text and end_section in text:\n",
    "        start_index = text.find(start_section) + len(start_section)\n",
    "        end_index = text.find(end_section)\n",
    "        extracted_text = text[start_index:end_index].strip()\n",
    "        print(\"Extracted Content:\")\n",
    "        print(extracted_text)\n",
    "    else:\n",
    "        print(f\"Could not find '{start_section}' or '{end_section}' on Page 3.\")"
   ]
  },
  {
   "cell_type": "code",
   "execution_count": 10,
   "metadata": {},
   "outputs": [
    {
     "name": "stdout",
     "output_type": "stream",
     "text": [
      "Extracted Content:\n",
      ", A revision table is normally located in the upper right of the drawing\n",
      "frame. All modifications to the drawing should be documented there.\n"
     ]
    }
   ],
   "source": [
    "# Need to construct Revision Table infor from page 3\n",
    "import pdfplumber\n",
    "pdf_path = \"Engineering+Working+Drawing+Basics.pdf\"\n",
    "start_section = \"Revision Table\"  \n",
    "end_section = \"Material or Parts List (Bill of Materials)\"  \n",
    "try:\n",
    "    with pdfplumber.open(pdf_path) as pdf:\n",
    "        if len(pdf.pages) < 3:\n",
    "            print(\"The PDF does not have a Page 3.\")\n",
    "        else:\n",
    "            page = pdf.pages[2]  \n",
    "            text = page.extract_text()\n",
    "            if not text:\n",
    "                print(\"No text found on Page 3.\")\n",
    "            else:\n",
    "                text = text.strip()\n",
    "                start_index = text.find(start_section)\n",
    "                end_index = text.find(end_section)\n",
    "\n",
    "                if start_index != -1 and end_index != -1 and start_index < end_index:\n",
    "                    extracted_text = text[start_index + len(start_section):end_index].strip()\n",
    "                    print(\"Extracted Content:\")\n",
    "                    print(extracted_text)\n",
    "                else:\n",
    "                    print(f\"Could not find '{start_section}' or '{end_section}' on Page 3.\")\n",
    "except FileNotFoundError:\n",
    "    print(f\"The file '{pdf_path}' was not found.\")\n",
    "except Exception as e:\n",
    "    print(f\"An error occurred: {e}\")\n"
   ]
  }
 ],
 "metadata": {
  "kernelspec": {
   "display_name": "Python 3",
   "language": "python",
   "name": "python3"
  },
  "language_info": {
   "codemirror_mode": {
    "name": "ipython",
    "version": 3
   },
   "file_extension": ".py",
   "mimetype": "text/x-python",
   "name": "python",
   "nbconvert_exporter": "python",
   "pygments_lexer": "ipython3",
   "version": "3.12.0"
  }
 },
 "nbformat": 4,
 "nbformat_minor": 2
}
